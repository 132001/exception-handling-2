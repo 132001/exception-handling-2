{
 "cells": [
  {
   "cell_type": "code",
   "execution_count": 1,
   "id": "634b0002-03e7-44de-8022-f4449f9f35ba",
   "metadata": {},
   "outputs": [
    {
     "name": "stdin",
     "output_type": "stream",
     "text": [
      "Enter your age:  -20\n"
     ]
    },
    {
     "ename": "TypeError",
     "evalue": "catching classes that do not inherit from BaseException is not allowed",
     "output_type": "error",
     "traceback": [
      "\u001b[0;31m---------------------------------------------------------------------------\u001b[0m",
      "\u001b[0;31mTypeError\u001b[0m                                 Traceback (most recent call last)",
      "Cell \u001b[0;32mIn[1], line 18\u001b[0m\n\u001b[1;32m     17\u001b[0m     age \u001b[38;5;241m=\u001b[39m \u001b[38;5;28mint\u001b[39m(\u001b[38;5;28minput\u001b[39m(\u001b[38;5;124m\"\u001b[39m\u001b[38;5;124mEnter your age: \u001b[39m\u001b[38;5;124m\"\u001b[39m))\n\u001b[0;32m---> 18\u001b[0m     \u001b[43mvalidate\u001b[49m\u001b[43m(\u001b[49m\u001b[43mage\u001b[49m\u001b[43m)\u001b[49m\n\u001b[1;32m     19\u001b[0m \u001b[38;5;28;01mexcept\u001b[39;00m Validage \u001b[38;5;28;01mas\u001b[39;00m e:\n",
      "Cell \u001b[0;32mIn[1], line 12\u001b[0m, in \u001b[0;36mvalidate\u001b[0;34m(age)\u001b[0m\n\u001b[1;32m     11\u001b[0m \u001b[38;5;28;01mif\u001b[39;00m age \u001b[38;5;241m<\u001b[39m\u001b[38;5;241m0\u001b[39m:\n\u001b[0;32m---> 12\u001b[0m     \u001b[38;5;28;01mraise\u001b[39;00m Validage(\u001b[38;5;124m\"\u001b[39m\u001b[38;5;124mAge can not be negative.\u001b[39m\u001b[38;5;124m\"\u001b[39m)\n\u001b[1;32m     13\u001b[0m \u001b[38;5;28;01melse\u001b[39;00m:\n",
      "\u001b[0;31mTypeError\u001b[0m: exceptions must derive from BaseException",
      "\nDuring handling of the above exception, another exception occurred:\n",
      "\u001b[0;31mTypeError\u001b[0m                                 Traceback (most recent call last)",
      "Cell \u001b[0;32mIn[1], line 19\u001b[0m\n\u001b[1;32m     17\u001b[0m     age \u001b[38;5;241m=\u001b[39m \u001b[38;5;28mint\u001b[39m(\u001b[38;5;28minput\u001b[39m(\u001b[38;5;124m\"\u001b[39m\u001b[38;5;124mEnter your age: \u001b[39m\u001b[38;5;124m\"\u001b[39m))\n\u001b[1;32m     18\u001b[0m     validate(age)\n\u001b[0;32m---> 19\u001b[0m \u001b[38;5;28;01mexcept\u001b[39;00m Validage \u001b[38;5;28;01mas\u001b[39;00m e:\n\u001b[1;32m     20\u001b[0m     \u001b[38;5;28mprint\u001b[39m(e)\n",
      "\u001b[0;31mTypeError\u001b[0m: catching classes that do not inherit from BaseException is not allowed"
     ]
    }
   ],
   "source": [
    "#Question 1\n",
    "#Ans\n",
    "#We have to inherit our base class Exception because all exception are instance of Exception class. It we do not inherit it then our custom \n",
    "#exception will not work.\n",
    "class Validage:\n",
    "    \n",
    "    def __init__(self,msg):\n",
    "        self.msg = msg\n",
    "        \n",
    "def validate(age):\n",
    "    if age <0:\n",
    "        raise Validage(\"Age can not be negative.\")\n",
    "    else:\n",
    "        print(\"Valid age.\")\n",
    "\n",
    "try:\n",
    "    age = int(input(\"Enter your age: \"))\n",
    "    validate(age)\n",
    "except Validage as e:\n",
    "    print(e)"
   ]
  },
  {
   "cell_type": "code",
   "execution_count": 2,
   "id": "37d802f8-5c22-401b-b586-2584dac1065c",
   "metadata": {},
   "outputs": [],
   "source": [
    "#Here you can see if we do not inherit our Exception class then it will give us an error."
   ]
  },
  {
   "cell_type": "code",
   "execution_count": 3,
   "id": "7e09b0b5-63f1-443c-bf5a-1474a0fd176d",
   "metadata": {},
   "outputs": [
    {
     "name": "stdout",
     "output_type": "stream",
     "text": [
      "Hierarchy of Exception: \n",
      " BaseException\n",
      "    Exception\n",
      "       TypeError\n",
      "          FloatOperation\n",
      "          MultipartConversionError\n",
      "       StopAsyncIteration\n",
      "       StopIteration\n",
      "       ImportError\n",
      "          ModuleNotFoundError\n",
      "          ZipImportError\n",
      "       OSError\n",
      "          ConnectionError\n",
      "             BrokenPipeError\n",
      "             ConnectionAbortedError\n",
      "             ConnectionRefusedError\n",
      "             ConnectionResetError\n",
      "                RemoteDisconnected\n",
      "          BlockingIOError\n",
      "          ChildProcessError\n",
      "          FileExistsError\n",
      "          FileNotFoundError\n",
      "          IsADirectoryError\n",
      "          NotADirectoryError\n",
      "          InterruptedError\n",
      "             InterruptedSystemCall\n",
      "          PermissionError\n",
      "          ProcessLookupError\n",
      "          TimeoutError\n",
      "          UnsupportedOperation\n",
      "          itimer_error\n",
      "          herror\n",
      "          gaierror\n",
      "          SSLError\n",
      "             SSLCertVerificationError\n",
      "             SSLZeroReturnError\n",
      "             SSLWantWriteError\n",
      "             SSLWantReadError\n",
      "             SSLSyscallError\n",
      "             SSLEOFError\n",
      "          Error\n",
      "             SameFileError\n",
      "          SpecialFileError\n",
      "          ExecError\n",
      "          ReadError\n",
      "          URLError\n",
      "             HTTPError\n",
      "             ContentTooShortError\n",
      "          BadGzipFile\n",
      "       EOFError\n",
      "          IncompleteReadError\n",
      "       RuntimeError\n",
      "          RecursionError\n",
      "          NotImplementedError\n",
      "             ZMQVersionError\n",
      "             StdinNotImplementedError\n",
      "          _DeadlockError\n",
      "          BrokenBarrierError\n",
      "          BrokenExecutor\n",
      "             BrokenThreadPool\n",
      "          SendfileNotAvailableError\n",
      "          ExtractionError\n",
      "          VariableError\n",
      "       NameError\n",
      "          UnboundLocalError\n",
      "       AttributeError\n",
      "          FrozenInstanceError\n",
      "       SyntaxError\n",
      "          IndentationError\n",
      "             TabError\n",
      "       LookupError\n",
      "          IndexError\n",
      "          KeyError\n",
      "             NoSuchKernel\n",
      "             UnknownBackend\n",
      "          CodecRegistryError\n",
      "       ValueError\n",
      "          UnicodeError\n",
      "             UnicodeEncodeError\n",
      "             UnicodeDecodeError\n",
      "             UnicodeTranslateError\n",
      "          UnsupportedOperation\n",
      "          JSONDecodeError\n",
      "          SSLCertVerificationError\n",
      "          Error\n",
      "          UnsupportedDigestmodError\n",
      "          IllegalMonthError\n",
      "          IllegalWeekdayError\n",
      "          ParserError\n",
      "          ClassNotFound\n",
      "          ClipboardEmpty\n",
      "          MessageDefect\n",
      "             NoBoundaryInMultipartDefect\n",
      "             StartBoundaryNotFoundDefect\n",
      "             CloseBoundaryNotFoundDefect\n",
      "             FirstHeaderLineIsContinuationDefect\n",
      "             MisplacedEnvelopeHeaderDefect\n",
      "             MissingHeaderBodySeparatorDefect\n",
      "             MultipartInvariantViolationDefect\n",
      "             InvalidMultipartContentTransferEncodingDefect\n",
      "             UndecodableBytesDefect\n",
      "             InvalidBase64PaddingDefect\n",
      "             InvalidBase64CharactersDefect\n",
      "             InvalidBase64LengthDefect\n",
      "             HeaderDefect\n",
      "                InvalidHeaderDefect\n",
      "                HeaderMissingRequiredValue\n",
      "                NonPrintableDefect\n",
      "                ObsoleteHeaderDefect\n",
      "                NonASCIILocalPartDefect\n",
      "                InvalidDateDefect\n",
      "          MacroToEdit\n",
      "          InvalidFileException\n",
      "          UnequalIterablesError\n",
      "          InvalidVersion\n",
      "          _InvalidELFFileHeader\n",
      "          InvalidWheelFilename\n",
      "          InvalidSdistFilename\n",
      "          InvalidSpecifier\n",
      "          InvalidMarker\n",
      "          UndefinedComparison\n",
      "          UndefinedEnvironmentName\n",
      "          InvalidRequirement\n",
      "             RequirementParseError\n",
      "          InvalidVersion\n",
      "       AssertionError\n",
      "       ArithmeticError\n",
      "          FloatingPointError\n",
      "          OverflowError\n",
      "          ZeroDivisionError\n",
      "             DivisionByZero\n",
      "             DivisionUndefined\n",
      "          DecimalException\n",
      "             Clamped\n",
      "             Rounded\n",
      "                Underflow\n",
      "                Overflow\n",
      "             Inexact\n",
      "                Underflow\n",
      "                Overflow\n",
      "             Subnormal\n",
      "                Underflow\n",
      "             DivisionByZero\n",
      "             FloatOperation\n",
      "             InvalidOperation\n",
      "                ConversionSyntax\n",
      "                DivisionImpossible\n",
      "                DivisionUndefined\n",
      "                InvalidContext\n",
      "       SystemError\n",
      "          CodecRegistryError\n",
      "       ReferenceError\n",
      "       MemoryError\n",
      "       BufferError\n",
      "       Warning\n",
      "          UserWarning\n",
      "             GetPassWarning\n",
      "             FormatterWarning\n",
      "          EncodingWarning\n",
      "          DeprecationWarning\n",
      "             ProvisionalWarning\n",
      "          PendingDeprecationWarning\n",
      "          SyntaxWarning\n",
      "          RuntimeWarning\n",
      "             ProactorSelectorThreadWarning\n",
      "             UnknownTimezoneWarning\n",
      "             PEP440Warning\n",
      "          FutureWarning\n",
      "             ProvisionalCompleterWarning\n",
      "          ImportWarning\n",
      "          UnicodeWarning\n",
      "          BytesWarning\n",
      "          ResourceWarning\n",
      "          DeprecatedTzFormatWarning\n",
      "          PkgResourcesDeprecationWarning\n",
      "       _OptionError\n",
      "       _Error\n",
      "       error\n",
      "       Verbose\n",
      "       Error\n",
      "       SubprocessError\n",
      "          CalledProcessError\n",
      "          TimeoutExpired\n",
      "       TokenError\n",
      "       StopTokenizing\n",
      "       ClassFoundException\n",
      "       EndOfBlock\n",
      "       TraitError\n",
      "       Error\n",
      "       Error\n",
      "          CancelledError\n",
      "          TimeoutError\n",
      "          InvalidStateError\n",
      "       _GiveupOnSendfile\n",
      "       error\n",
      "       Incomplete\n",
      "       TimeoutError\n",
      "       InvalidStateError\n",
      "       LimitOverrunError\n",
      "       QueueEmpty\n",
      "       QueueFull\n",
      "       Empty\n",
      "       Full\n",
      "       ArgumentError\n",
      "       ZMQBaseError\n",
      "          ZMQError\n",
      "             ContextTerminated\n",
      "             Again\n",
      "             InterruptedSystemCall\n",
      "          ZMQBindError\n",
      "          NotDone\n",
      "       PickleError\n",
      "          PicklingError\n",
      "          UnpicklingError\n",
      "       _Stop\n",
      "       ArgumentError\n",
      "       ArgumentTypeError\n",
      "       ConfigError\n",
      "          ConfigLoaderError\n",
      "             ArgumentError\n",
      "          ConfigFileNotFound\n",
      "       ConfigurableError\n",
      "          MultipleInstanceError\n",
      "       ApplicationError\n",
      "       error\n",
      "       TimeoutError\n",
      "       error\n",
      "       ReturnValueIgnoredError\n",
      "       KeyReuseError\n",
      "       UnknownKeyError\n",
      "       LeakedCallbackError\n",
      "       BadYieldError\n",
      "       ReturnValueIgnoredError\n",
      "       Return\n",
      "       InvalidPortNumber\n",
      "       error\n",
      "       LZMAError\n",
      "       RegistryError\n",
      "       _GiveupOnFastCopy\n",
      "       Error\n",
      "          NoSectionError\n",
      "          DuplicateSectionError\n",
      "          DuplicateOptionError\n",
      "          NoOptionError\n",
      "          InterpolationError\n",
      "             InterpolationMissingOptionError\n",
      "             InterpolationSyntaxError\n",
      "             InterpolationDepthError\n",
      "          ParsingError\n",
      "             MissingSectionHeaderError\n",
      "       NoIPAddresses\n",
      "       BadZipFile\n",
      "       LargeZipFile\n",
      "       BadEntryPoint\n",
      "       NoSuchEntryPoint\n",
      "       DuplicateKernelError\n",
      "       ErrorDuringImport\n",
      "       NotOneValueFound\n",
      "       CannotEval\n",
      "       OptionError\n",
      "       BdbQuit\n",
      "       Restart\n",
      "       ExceptionPexpect\n",
      "          EOF\n",
      "          TIMEOUT\n",
      "       PtyProcessError\n",
      "       FindCmdError\n",
      "       HomeDirError\n",
      "       ProfileDirError\n",
      "       IPythonCoreError\n",
      "          TryNext\n",
      "          UsageError\n",
      "          StdinNotImplementedError\n",
      "       InputRejected\n",
      "       GetoptError\n",
      "       ErrorToken\n",
      "       PrefilterError\n",
      "       AliasError\n",
      "          InvalidAliasError\n",
      "       Error\n",
      "          InterfaceError\n",
      "          DatabaseError\n",
      "             InternalError\n",
      "             OperationalError\n",
      "             ProgrammingError\n",
      "             IntegrityError\n",
      "             DataError\n",
      "             NotSupportedError\n",
      "       Warning\n",
      "       SpaceInInput\n",
      "       DOMException\n",
      "          IndexSizeErr\n",
      "          DomstringSizeErr\n",
      "          HierarchyRequestErr\n",
      "          WrongDocumentErr\n",
      "          InvalidCharacterErr\n",
      "          NoDataAllowedErr\n",
      "          NoModificationAllowedErr\n",
      "          NotFoundErr\n",
      "          NotSupportedErr\n",
      "          InuseAttributeErr\n",
      "          InvalidStateErr\n",
      "          SyntaxErr\n",
      "          InvalidModificationErr\n",
      "          NamespaceErr\n",
      "          InvalidAccessErr\n",
      "          ValidationErr\n",
      "       ValidationError\n",
      "       EditReadOnlyBuffer\n",
      "       _Retry\n",
      "       InvalidLayoutError\n",
      "       HeightIsUnknownError\n",
      "       ParserSyntaxError\n",
      "       InternalParseError\n",
      "       _PositionUpdatingFinished\n",
      "       SimpleGetItemNotFound\n",
      "       UncaughtAttributeError\n",
      "       HasNoContext\n",
      "       ParamIssue\n",
      "       _JediError\n",
      "          InternalError\n",
      "          WrongVersion\n",
      "          RefactoringError\n",
      "       OnErrorLeaf\n",
      "       InvalidPythonEnvironment\n",
      "       MessageError\n",
      "          MessageParseError\n",
      "             HeaderParseError\n",
      "             BoundaryError\n",
      "          MultipartConversionError\n",
      "          CharsetError\n",
      "       Error\n",
      "       HTTPException\n",
      "          NotConnected\n",
      "          InvalidURL\n",
      "          UnknownProtocol\n",
      "          UnknownTransferEncoding\n",
      "          UnimplementedFileMode\n",
      "          IncompleteRead\n",
      "          ImproperConnectionState\n",
      "             CannotSendRequest\n",
      "             CannotSendHeader\n",
      "             ResponseNotReady\n",
      "          BadStatusLine\n",
      "             RemoteDisconnected\n",
      "          LineTooLong\n",
      "       InteractivelyDefined\n",
      "       KillEmbedded\n",
      "       Error\n",
      "          NoSuchProcess\n",
      "             ZombieProcess\n",
      "          AccessDenied\n",
      "          TimeoutExpired\n",
      "       _Ipv6UnsupportedError\n",
      "       QueueEmpty\n",
      "       QueueFull\n",
      "       DebuggerInitializationError\n",
      "       ExpatError\n",
      "       Error\n",
      "          ProtocolError\n",
      "          ResponseError\n",
      "          Fault\n",
      "       ParseBaseException\n",
      "          ParseException\n",
      "          ParseFatalException\n",
      "             ParseSyntaxException\n",
      "       RecursiveGrammarException\n",
      "       ResolutionError\n",
      "          VersionConflict\n",
      "             ContextualVersionConflict\n",
      "          DistributionNotFound\n",
      "          UnknownExtra\n",
      "       _Error\n",
      "       UnableToResolveVariableException\n",
      "       InvalidTypeInArgsException\n",
      "    GeneratorExit\n",
      "    SystemExit\n",
      "    KeyboardInterrupt\n",
      "    CancelledError\n",
      "    AbortThread\n"
     ]
    }
   ],
   "source": [
    "#Question 2\n",
    "#Ans\n",
    "import inspect \n",
    "\n",
    "def tree_class(cls,ind=0):\n",
    "    \n",
    "    print(' '*ind,cls.__name__)\n",
    "    \n",
    "    for i in cls.__subclasses__():\n",
    "        tree_class(i,ind+3)\n",
    "print(\"Hierarchy of Exception: \")\n",
    "\n",
    "inspect.getclasstree(inspect.getmro(BaseException))\n",
    "tree_class(BaseException)"
   ]
  },
  {
   "cell_type": "code",
   "execution_count": 4,
   "id": "a69a1254-13ef-428c-acab-01bf3d2724f5",
   "metadata": {},
   "outputs": [
    {
     "name": "stdout",
     "output_type": "stream",
     "text": [
      "division by zero\n"
     ]
    }
   ],
   "source": [
    "#Question 3\n",
    "#Ans Arithmetic Exceptions: -  DivisionByZero, OverflowError, FloatingPointError\n",
    "#DivisionByZero\n",
    "try:\n",
    "    a = 4/0\n",
    "except ZeroDivisionError as  e:\n",
    "    print(e)"
   ]
  },
  {
   "cell_type": "code",
   "execution_count": 12,
   "id": "07a52082-1e7c-4287-b009-e9b06710a4bb",
   "metadata": {},
   "outputs": [
    {
     "name": "stdout",
     "output_type": "stream",
     "text": [
      "(34, 'Numerical result out of range')\n"
     ]
    }
   ],
   "source": [
    "#OverflowError\n",
    "try:\n",
    "    a = 10**1.0139e+5\n",
    "    print(a)\n",
    "except OverflowError as e:\n",
    "    print(e)"
   ]
  },
  {
   "cell_type": "code",
   "execution_count": 15,
   "id": "db8ab25a-603a-4190-9bca-6d72cce99540",
   "metadata": {},
   "outputs": [
    {
     "name": "stdout",
     "output_type": "stream",
     "text": [
      "list index out of range\n"
     ]
    }
   ],
   "source": [
    "#Question 4\n",
    "#Ans \n",
    "#LookupError: - \n",
    "#LookupError Exception is the Base class for errors raised when something can’t be found. \n",
    "#The base class for the exceptions that are raised when a key or index used on a mapping or sequence is invalid: IndexError, KeyError.\n",
    "#An IndexError is raised when a sequence reference is out of range.\n",
    "#An KeyError is raised when a key is not found.\n",
    "try:\n",
    "    lst = [1,2,3]\n",
    "    print(lst[3])\n",
    "except IndexError as e:\n",
    "    print(e)"
   ]
  },
  {
   "cell_type": "code",
   "execution_count": 16,
   "id": "45e4b9e6-c8ee-4623-ae68-8d893db1d1d0",
   "metadata": {},
   "outputs": [
    {
     "name": "stdout",
     "output_type": "stream",
     "text": [
      "'key1'\n"
     ]
    }
   ],
   "source": [
    "try:\n",
    "    dic = {\"key\":\"value\"}\n",
    "    print(dic['key1'])\n",
    "except KeyError as e:\n",
    "    print(e)"
   ]
  },
  {
   "cell_type": "code",
   "execution_count": 17,
   "id": "c7070278-cce4-406e-923f-c75370e07e28",
   "metadata": {},
   "outputs": [
    {
     "name": "stdout",
     "output_type": "stream",
     "text": [
      "No module named 'ankit'\n"
     ]
    }
   ],
   "source": [
    "#Question 5\n",
    "#Ans\n",
    "#ImportError : -  It raised when we import some package which is not present.\n",
    "try:\n",
    "    import ankit\n",
    "except ImportError as e:\n",
    "    print(e)"
   ]
  },
  {
   "cell_type": "code",
   "execution_count": 19,
   "id": "25302495-b235-4ff1-9a04-275bb0e92b6d",
   "metadata": {},
   "outputs": [
    {
     "ename": "ModuleNotFoundError",
     "evalue": "No module named 'numpys'",
     "output_type": "error",
     "traceback": [
      "\u001b[0;31m---------------------------------------------------------------------------\u001b[0m",
      "\u001b[0;31mModuleNotFoundError\u001b[0m                       Traceback (most recent call last)",
      "Cell \u001b[0;32mIn[19], line 1\u001b[0m\n\u001b[0;32m----> 1\u001b[0m \u001b[38;5;28;01mimport\u001b[39;00m \u001b[38;5;21;01mnumpys\u001b[39;00m\n",
      "\u001b[0;31mModuleNotFoundError\u001b[0m: No module named 'numpys'"
     ]
    }
   ],
   "source": [
    "import numpys"
   ]
  },
  {
   "cell_type": "code",
   "execution_count": 20,
   "id": "56b4b2af-1375-49a5-bcb8-a1fc9e151cfc",
   "metadata": {},
   "outputs": [],
   "source": [
    "#If exception occurs then it gives module not found error."
   ]
  },
  {
   "cell_type": "code",
   "execution_count": 21,
   "id": "11dd5f15-02c9-4196-aad1-365c1ddaff86",
   "metadata": {},
   "outputs": [],
   "source": [
    "#Question 6\n",
    "#Ans\n"
   ]
  },
  {
   "cell_type": "code",
   "execution_count": 22,
   "id": "164fece0-e3b4-45dd-95bc-98a599582066",
   "metadata": {},
   "outputs": [
    {
     "name": "stdout",
     "output_type": "stream",
     "text": [
      "division by zero\n"
     ]
    }
   ],
   "source": [
    "try:\n",
    "    a = 3/0\n",
    "    print(a)\n",
    "except Exception as e:\n",
    "    print(e)"
   ]
  },
  {
   "cell_type": "code",
   "execution_count": 23,
   "id": "72a781ef-a72d-4e2c-b459-db3510631384",
   "metadata": {},
   "outputs": [
    {
     "name": "stdout",
     "output_type": "stream",
     "text": [
      "invalid literal for int() with base 10: 'Ankit'\n"
     ]
    }
   ],
   "source": [
    "try:\n",
    "    int(\"Ankit\")\n",
    "except Exception as e:\n",
    "    print(e)"
   ]
  },
  {
   "cell_type": "code",
   "execution_count": 24,
   "id": "9a6eb024-16ee-44d8-91f5-a4306571da3b",
   "metadata": {},
   "outputs": [
    {
     "name": "stdout",
     "output_type": "stream",
     "text": [
      "invalid literal for int() with base 10: 'Ankit'\n"
     ]
    }
   ],
   "source": [
    "try:\n",
    "    int(\"Ankit\")\n",
    "except (ValueError, TypeError) as e:\n",
    "    print(e)"
   ]
  },
  {
   "cell_type": "code",
   "execution_count": 25,
   "id": "c8051d2b-bbfd-446c-a64f-04308ab096e7",
   "metadata": {},
   "outputs": [
    {
     "name": "stdout",
     "output_type": "stream",
     "text": [
      "No module named 'ankit'\n"
     ]
    }
   ],
   "source": [
    "try:\n",
    "    import ankit\n",
    "except ImportError as e:\n",
    "    print(e)"
   ]
  },
  {
   "cell_type": "code",
   "execution_count": 26,
   "id": "317be23a-70b3-4a7b-9463-60740b460ca6",
   "metadata": {},
   "outputs": [
    {
     "name": "stdout",
     "output_type": "stream",
     "text": [
      "'key1'\n"
     ]
    }
   ],
   "source": [
    "try:\n",
    "    d = {\"key\":\"value\"}\n",
    "    print(d[\"key1\"])\n",
    "except KeyError as e:\n",
    "    print(e)"
   ]
  },
  {
   "cell_type": "code",
   "execution_count": 27,
   "id": "bc64975e-b999-4fc7-b2a9-78b9587b5b2b",
   "metadata": {},
   "outputs": [
    {
     "name": "stdout",
     "output_type": "stream",
     "text": [
      "'str' object has no attribute 'test'\n"
     ]
    }
   ],
   "source": [
    "try:\n",
    "    \"ankit\".test()\n",
    "except AttributeError as e:\n",
    "    print(e)\n",
    "    "
   ]
  },
  {
   "cell_type": "code",
   "execution_count": 28,
   "id": "cf230922-55b2-4e4c-aee3-b66adbc66676",
   "metadata": {},
   "outputs": [
    {
     "name": "stdout",
     "output_type": "stream",
     "text": [
      "list index out of range\n"
     ]
    }
   ],
   "source": [
    "try:\n",
    "    l = [1,2]\n",
    "    print(l[3])\n",
    "except IndexError as e:\n",
    "    print(e)"
   ]
  },
  {
   "cell_type": "code",
   "execution_count": 29,
   "id": "82add2d5-c0c7-44fc-8cfa-0a2f63e1fa6f",
   "metadata": {},
   "outputs": [
    {
     "name": "stdout",
     "output_type": "stream",
     "text": [
      "unsupported operand type(s) for +: 'int' and 'str'\n"
     ]
    }
   ],
   "source": [
    "try:\n",
    "    123 + \"Ankit\"\n",
    "except TypeError as e:\n",
    "    print(e)"
   ]
  },
  {
   "cell_type": "code",
   "execution_count": 30,
   "id": "bb1fec5f-1a34-4c35-af55-43b7b68934e6",
   "metadata": {},
   "outputs": [
    {
     "name": "stdout",
     "output_type": "stream",
     "text": [
      "[Errno 2] No such file or directory: 'test.txt'\n"
     ]
    }
   ],
   "source": [
    "try:\n",
    "    with open(\"test.txt\",\"r\") as f:\n",
    "        f.read()\n",
    "except FileNotFoundError as e:\n",
    "    print(e)"
   ]
  },
  {
   "cell_type": "code",
   "execution_count": null,
   "id": "85c9f654-bae2-4987-9973-2942918cbcf3",
   "metadata": {},
   "outputs": [],
   "source": []
  }
 ],
 "metadata": {
  "kernelspec": {
   "display_name": "Python 3 (ipykernel)",
   "language": "python",
   "name": "python3"
  },
  "language_info": {
   "codemirror_mode": {
    "name": "ipython",
    "version": 3
   },
   "file_extension": ".py",
   "mimetype": "text/x-python",
   "name": "python",
   "nbconvert_exporter": "python",
   "pygments_lexer": "ipython3",
   "version": "3.10.8"
  }
 },
 "nbformat": 4,
 "nbformat_minor": 5
}
